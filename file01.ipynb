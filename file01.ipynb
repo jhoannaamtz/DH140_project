{
 "cells": [
  {
   "cell_type": "markdown",
   "id": "052527ad",
   "metadata": {},
   "source": [
    "# DH140_project\n",
    "\n",
    "\n",
    "## Topic: Gender Gap in The Film Industry Through the Years\n",
    "\n",
    "### Research\n",
    "For this project, I am seeking to address the manner in which women have been represented in the film industry changed over time (roles, financing, Box office). How have these changes look when comparing films, not in English?\n",
    "\n",
    "### Motivation\n",
    "My motivation in doing so relies mainly on the fact as someone who identifies as a woman of color, I have always seen a gender gap in environments in most professional spaces I come across ranging from higher education to the world of entertainment. Though I have seen such spaces become more gender inclusive with time, I wish to see how the film industry specifically has improved. Additionally, how has Hollywood worked to include non-English speaking countries through time?\n",
    "\n",
    "### Sources \n",
    "Dataset: https://github.com/taubergm/HollywoodGenderData/blob/master/all_actors_movies_gender_gold.csv\n",
    "\n",
    "In this project, I am using the “All_actors_movies_gender_gold” dataset provided by user taubergm on GitHub. Containing hundreds of rows of data from 2000 to 2018, this dataset features several variables such as Film titles, country/language, financials, and cast information such as lead actor or actress and most importantly their gender."
   ]
  },
  {
   "cell_type": "markdown",
   "id": "61da5ed9",
   "metadata": {},
   "source": [
    "### Data Exploration\n",
    "\n",
    "As mentioned above this dataset is compiled of several variables such as Year and Date of Release, Film Name, Country, Budget/Gross (stop at September 2018), Film Runtime, Film Cast and Gender. This said, gender is categorized into a binary meaning cast members who may not feel identified by either category might be left out or misgendered. Additonally, it does not capture intersecting film cast identities such as gender and ethnicity.\n",
    "\n",
    "Potential Data Visualizations (4): \n",
    "\n",
    "1)Line plot of the number of films released 2000 - 2018\n",
    "\n",
    "2 & 3) Box plot comparing film funding for men vs women\n",
    "\n",
    "4)Bar graph of language/country distribution in films\n",
    "\n",
    "Other) Line plot film budget over time (use average for each year)"
   ]
  },
  {
   "cell_type": "code",
   "execution_count": 3,
   "id": "47534c69",
   "metadata": {},
   "outputs": [],
   "source": [
    "## DATA VIZ 1: Line Plot of Films released 2000 - 2018\n",
    "\n",
    "import pandas as pd\n",
    "hwdata = pd.read_csv('https://raw.githubusercontent.com/taubergm/HollywoodGenderData/master/all_actors_movies_gender_gold.csv')\n",
    "\n"
   ]
  },
  {
   "cell_type": "code",
   "execution_count": null,
   "id": "c83f367e",
   "metadata": {},
   "outputs": [],
   "source": [
    "## DATA VIZ 2/3: Box plot comparing film funding for men vs women"
   ]
  },
  {
   "cell_type": "code",
   "execution_count": null,
   "id": "755ee164",
   "metadata": {},
   "outputs": [],
   "source": [
    "## DATA VIZ 3: Bar graph of language/country distribution in films"
   ]
  },
  {
   "cell_type": "code",
   "execution_count": null,
   "id": "a825aa55",
   "metadata": {},
   "outputs": [],
   "source": [
    "## DATA VIZ ?: Line plot film budget over time (use average for each year)"
   ]
  },
  {
   "cell_type": "markdown",
   "id": "20ef6eb5",
   "metadata": {},
   "source": [
    "### Beginnings of Analysis\n",
    "\n",
    "Potential Data Visualizations: \n",
    "\n",
    "1)Bar chart of number of films with men in lead roles per year\n",
    "\n",
    "2)Bar chart of number of films with women in lead roles per year\n",
    "\n",
    "3)Scatter plot comparing budget/revenue for non-english language films for films with women leads\n",
    "\n",
    "4)Line plot of budget by country\n"
   ]
  },
  {
   "cell_type": "code",
   "execution_count": null,
   "id": "0d351323",
   "metadata": {},
   "outputs": [],
   "source": [
    "## DATA VIZ 1: Bar chart of number of films with men in lead roles per year"
   ]
  },
  {
   "cell_type": "code",
   "execution_count": null,
   "id": "f91203d4",
   "metadata": {},
   "outputs": [],
   "source": [
    "## DATA VIZ 2: Bar chart of number of films with women in lead roles per year"
   ]
  },
  {
   "cell_type": "code",
   "execution_count": null,
   "id": "1c3b7462",
   "metadata": {},
   "outputs": [],
   "source": [
    "## DATA VIZ 3: Scatter plot comparing budget/revenue for non-english language films for films with women leads"
   ]
  },
  {
   "cell_type": "code",
   "execution_count": null,
   "id": "85b42c7b",
   "metadata": {},
   "outputs": [],
   "source": [
    "## DATA VIZ 4: Line plot of budget by country"
   ]
  }
 ],
 "metadata": {
  "kernelspec": {
   "display_name": "Python 3 (ipykernel)",
   "language": "python",
   "name": "python3"
  },
  "language_info": {
   "codemirror_mode": {
    "name": "ipython",
    "version": 3
   },
   "file_extension": ".py",
   "mimetype": "text/x-python",
   "name": "python",
   "nbconvert_exporter": "python",
   "pygments_lexer": "ipython3",
   "version": "3.10.8"
  }
 },
 "nbformat": 4,
 "nbformat_minor": 5
}
